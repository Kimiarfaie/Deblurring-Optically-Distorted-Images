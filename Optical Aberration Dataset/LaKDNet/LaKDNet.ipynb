{
  "nbformat": 4,
  "nbformat_minor": 0,
  "metadata": {
    "colab": {
      "provenance": [],
      "gpuType": "T4"
    },
    "kernelspec": {
      "name": "python3",
      "display_name": "Python 3"
    },
    "language_info": {
      "name": "python"
    },
    "accelerator": "GPU"
  },
  "cells": [
    {
      "cell_type": "code",
      "execution_count": null,
      "metadata": {
        "colab": {
          "base_uri": "https://localhost:8080/"
        },
        "id": "kcuZSnMb5xT3",
        "outputId": "7d44c237-a2c6-4802-9b3f-bcbd81952879"
      },
      "outputs": [
        {
          "output_type": "stream",
          "name": "stdout",
          "text": [
            "Mounted at /content/drive\n"
          ]
        }
      ],
      "source": [
        "# Step 1: Mount Google Drive\n",
        "from google.colab import drive\n",
        "drive.mount('/content/drive')"
      ]
    },
    {
      "cell_type": "code",
      "source": [
        "!git clone https://github.com/lingyanruan/LaKDNet.git\n",
        "%cd LaKDNet"
      ],
      "metadata": {
        "colab": {
          "base_uri": "https://localhost:8080/"
        },
        "id": "OqOcZaco7iBg",
        "outputId": "69313059-00d4-4156-eeb4-d4def7b4dc84"
      },
      "execution_count": null,
      "outputs": [
        {
          "output_type": "stream",
          "name": "stdout",
          "text": [
            "Cloning into 'LaKDNet'...\n",
            "remote: Enumerating objects: 124, done.\u001b[K\n",
            "remote: Counting objects: 100% (28/28), done.\u001b[K\n",
            "remote: Compressing objects: 100% (23/23), done.\u001b[K\n",
            "remote: Total 124 (delta 11), reused 0 (delta 0), pack-reused 96\u001b[K\n",
            "Receiving objects: 100% (124/124), 11.42 MiB | 16.25 MiB/s, done.\n",
            "Resolving deltas: 100% (37/37), done.\n",
            "/content/LaKDNet\n"
          ]
        }
      ]
    },
    {
      "cell_type": "code",
      "source": [
        "!pip install torch torchvision lpips pyyaml natsort scikit-image einops"
      ],
      "metadata": {
        "colab": {
          "base_uri": "https://localhost:8080/"
        },
        "collapsed": true,
        "id": "cFy6Z9d2BEI-",
        "outputId": "d3e73fea-1025-4a00-a70f-f456297d1061"
      },
      "execution_count": null,
      "outputs": [
        {
          "output_type": "stream",
          "name": "stdout",
          "text": [
            "Requirement already satisfied: torch in /usr/local/lib/python3.10/dist-packages (2.3.1+cu121)\n",
            "Requirement already satisfied: torchvision in /usr/local/lib/python3.10/dist-packages (0.18.1+cu121)\n",
            "Collecting lpips\n",
            "  Downloading lpips-0.1.4-py3-none-any.whl (53 kB)\n",
            "\u001b[2K     \u001b[90m━━━━━━━━━━━━━━━━━━━━━━━━━━━━━━━━━━━━━━━━\u001b[0m \u001b[32m53.8/53.8 kB\u001b[0m \u001b[31m2.3 MB/s\u001b[0m eta \u001b[36m0:00:00\u001b[0m\n",
            "\u001b[?25hRequirement already satisfied: pyyaml in /usr/local/lib/python3.10/dist-packages (6.0.1)\n",
            "Requirement already satisfied: natsort in /usr/local/lib/python3.10/dist-packages (8.4.0)\n",
            "Requirement already satisfied: scikit-image in /usr/local/lib/python3.10/dist-packages (0.19.3)\n",
            "Collecting einops\n",
            "  Downloading einops-0.8.0-py3-none-any.whl (43 kB)\n",
            "\u001b[2K     \u001b[90m━━━━━━━━━━━━━━━━━━━━━━━━━━━━━━━━━━━━━━━━\u001b[0m \u001b[32m43.2/43.2 kB\u001b[0m \u001b[31m3.0 MB/s\u001b[0m eta \u001b[36m0:00:00\u001b[0m\n",
            "\u001b[?25hRequirement already satisfied: filelock in /usr/local/lib/python3.10/dist-packages (from torch) (3.15.4)\n",
            "Requirement already satisfied: typing-extensions>=4.8.0 in /usr/local/lib/python3.10/dist-packages (from torch) (4.12.2)\n",
            "Requirement already satisfied: sympy in /usr/local/lib/python3.10/dist-packages (from torch) (1.13.0)\n",
            "Requirement already satisfied: networkx in /usr/local/lib/python3.10/dist-packages (from torch) (3.3)\n",
            "Requirement already satisfied: jinja2 in /usr/local/lib/python3.10/dist-packages (from torch) (3.1.4)\n",
            "Requirement already satisfied: fsspec in /usr/local/lib/python3.10/dist-packages (from torch) (2023.6.0)\n",
            "Collecting nvidia-cuda-nvrtc-cu12==12.1.105 (from torch)\n",
            "  Using cached nvidia_cuda_nvrtc_cu12-12.1.105-py3-none-manylinux1_x86_64.whl (23.7 MB)\n",
            "Collecting nvidia-cuda-runtime-cu12==12.1.105 (from torch)\n",
            "  Using cached nvidia_cuda_runtime_cu12-12.1.105-py3-none-manylinux1_x86_64.whl (823 kB)\n",
            "Collecting nvidia-cuda-cupti-cu12==12.1.105 (from torch)\n",
            "  Using cached nvidia_cuda_cupti_cu12-12.1.105-py3-none-manylinux1_x86_64.whl (14.1 MB)\n",
            "Collecting nvidia-cudnn-cu12==8.9.2.26 (from torch)\n",
            "  Using cached nvidia_cudnn_cu12-8.9.2.26-py3-none-manylinux1_x86_64.whl (731.7 MB)\n",
            "Collecting nvidia-cublas-cu12==12.1.3.1 (from torch)\n",
            "  Using cached nvidia_cublas_cu12-12.1.3.1-py3-none-manylinux1_x86_64.whl (410.6 MB)\n",
            "Collecting nvidia-cufft-cu12==11.0.2.54 (from torch)\n",
            "  Using cached nvidia_cufft_cu12-11.0.2.54-py3-none-manylinux1_x86_64.whl (121.6 MB)\n",
            "Collecting nvidia-curand-cu12==10.3.2.106 (from torch)\n",
            "  Using cached nvidia_curand_cu12-10.3.2.106-py3-none-manylinux1_x86_64.whl (56.5 MB)\n",
            "Collecting nvidia-cusolver-cu12==11.4.5.107 (from torch)\n",
            "  Using cached nvidia_cusolver_cu12-11.4.5.107-py3-none-manylinux1_x86_64.whl (124.2 MB)\n",
            "Collecting nvidia-cusparse-cu12==12.1.0.106 (from torch)\n",
            "  Using cached nvidia_cusparse_cu12-12.1.0.106-py3-none-manylinux1_x86_64.whl (196.0 MB)\n",
            "Collecting nvidia-nccl-cu12==2.20.5 (from torch)\n",
            "  Using cached nvidia_nccl_cu12-2.20.5-py3-none-manylinux2014_x86_64.whl (176.2 MB)\n",
            "Collecting nvidia-nvtx-cu12==12.1.105 (from torch)\n",
            "  Using cached nvidia_nvtx_cu12-12.1.105-py3-none-manylinux1_x86_64.whl (99 kB)\n",
            "Requirement already satisfied: triton==2.3.1 in /usr/local/lib/python3.10/dist-packages (from torch) (2.3.1)\n",
            "Collecting nvidia-nvjitlink-cu12 (from nvidia-cusolver-cu12==11.4.5.107->torch)\n",
            "  Downloading nvidia_nvjitlink_cu12-12.5.82-py3-none-manylinux2014_x86_64.whl (21.3 MB)\n",
            "\u001b[2K     \u001b[90m━━━━━━━━━━━━━━━━━━━━━━━━━━━━━━━━━━━━━━━━\u001b[0m \u001b[32m21.3/21.3 MB\u001b[0m \u001b[31m52.7 MB/s\u001b[0m eta \u001b[36m0:00:00\u001b[0m\n",
            "\u001b[?25hRequirement already satisfied: numpy in /usr/local/lib/python3.10/dist-packages (from torchvision) (1.25.2)\n",
            "Requirement already satisfied: pillow!=8.3.*,>=5.3.0 in /usr/local/lib/python3.10/dist-packages (from torchvision) (9.4.0)\n",
            "Requirement already satisfied: scipy>=1.0.1 in /usr/local/lib/python3.10/dist-packages (from lpips) (1.11.4)\n",
            "Requirement already satisfied: tqdm>=4.28.1 in /usr/local/lib/python3.10/dist-packages (from lpips) (4.66.4)\n",
            "Requirement already satisfied: imageio>=2.4.1 in /usr/local/lib/python3.10/dist-packages (from scikit-image) (2.31.6)\n",
            "Requirement already satisfied: tifffile>=2019.7.26 in /usr/local/lib/python3.10/dist-packages (from scikit-image) (2024.7.2)\n",
            "Requirement already satisfied: PyWavelets>=1.1.1 in /usr/local/lib/python3.10/dist-packages (from scikit-image) (1.6.0)\n",
            "Requirement already satisfied: packaging>=20.0 in /usr/local/lib/python3.10/dist-packages (from scikit-image) (24.1)\n",
            "Requirement already satisfied: MarkupSafe>=2.0 in /usr/local/lib/python3.10/dist-packages (from jinja2->torch) (2.1.5)\n",
            "Requirement already satisfied: mpmath<1.4,>=1.1.0 in /usr/local/lib/python3.10/dist-packages (from sympy->torch) (1.3.0)\n",
            "Installing collected packages: nvidia-nvtx-cu12, nvidia-nvjitlink-cu12, nvidia-nccl-cu12, nvidia-curand-cu12, nvidia-cufft-cu12, nvidia-cuda-runtime-cu12, nvidia-cuda-nvrtc-cu12, nvidia-cuda-cupti-cu12, nvidia-cublas-cu12, einops, nvidia-cusparse-cu12, nvidia-cudnn-cu12, nvidia-cusolver-cu12, lpips\n",
            "Successfully installed einops-0.8.0 lpips-0.1.4 nvidia-cublas-cu12-12.1.3.1 nvidia-cuda-cupti-cu12-12.1.105 nvidia-cuda-nvrtc-cu12-12.1.105 nvidia-cuda-runtime-cu12-12.1.105 nvidia-cudnn-cu12-8.9.2.26 nvidia-cufft-cu12-11.0.2.54 nvidia-curand-cu12-10.3.2.106 nvidia-cusolver-cu12-11.4.5.107 nvidia-cusparse-cu12-12.1.0.106 nvidia-nccl-cu12-2.20.5 nvidia-nvjitlink-cu12-12.5.82 nvidia-nvtx-cu12-12.1.105\n"
          ]
        }
      ]
    },
    {
      "cell_type": "markdown",
      "source": [
        "# Either run:\n",
        "1. Trained on LFDOF - small\n",
        "2. Trained on DPDD - small\n",
        "3. Trained on LFdOF and DPDD - small\n",
        "4. Trained on DPDD - large"
      ],
      "metadata": {
        "id": "vWPchZ7RMzM4"
      }
    },
    {
      "cell_type": "code",
      "source": [
        "# 1. Model is trained on LFDOF, small\n",
        "!mkdir -p ./ckpts\n",
        "!wget -O ./ckpts/train_on_lfdof_s.pth \"https://lakdnet.mpi-inf.mpg.de/Weights/Defocus/train_on_lfdof_s/train_on_lfdof_s.pth\""
      ],
      "metadata": {
        "colab": {
          "base_uri": "https://localhost:8080/"
        },
        "id": "5-M9xHRSBisc",
        "outputId": "a2c29799-8f55-4781-e5d8-bb2f9c5c77f7",
        "collapsed": true
      },
      "execution_count": null,
      "outputs": [
        {
          "output_type": "stream",
          "name": "stdout",
          "text": [
            "--2024-07-19 09:25:21--  https://lakdnet.mpi-inf.mpg.de/Weights/Defocus/train_on_lfdof_s/train_on_lfdof_s.pth\n",
            "Resolving lakdnet.mpi-inf.mpg.de (lakdnet.mpi-inf.mpg.de)... 139.19.206.65\n",
            "Connecting to lakdnet.mpi-inf.mpg.de (lakdnet.mpi-inf.mpg.de)|139.19.206.65|:443... connected.\n",
            "HTTP request sent, awaiting response... 200 OK\n",
            "Length: 71240575 (68M)\n",
            "Saving to: ‘./ckpts/train_on_lfdof_s.pth’\n",
            "\n",
            "./ckpts/train_on_lf 100%[===================>]  67.94M  18.4MB/s    in 4.8s    \n",
            "\n",
            "2024-07-19 09:25:27 (14.2 MB/s) - ‘./ckpts/train_on_lfdof_s.pth’ saved [71240575/71240575]\n",
            "\n"
          ]
        }
      ]
    },
    {
      "cell_type": "code",
      "source": [
        "# 2. Model is trained on DPDD, small\n",
        "!mkdir -p ./ckpts\n",
        "!wget -O ./ckpts/train_on_dpdd_s.pth \"https://lakdnet.mpi-inf.mpg.de/Weights/Defocus/train_on_dpdd_s/train_on_dpdd_s.pth\""
      ],
      "metadata": {
        "colab": {
          "base_uri": "https://localhost:8080/"
        },
        "id": "gy51FlKOJyAa",
        "outputId": "c67fc113-6096-4135-bcba-00c557372266"
      },
      "execution_count": null,
      "outputs": [
        {
          "output_type": "stream",
          "name": "stdout",
          "text": [
            "--2024-07-22 13:09:14--  https://lakdnet.mpi-inf.mpg.de/Weights/Defocus/train_on_dpdd_s/train_on_dpdd_s.pth\n",
            "Resolving lakdnet.mpi-inf.mpg.de (lakdnet.mpi-inf.mpg.de)... 139.19.206.65\n",
            "Connecting to lakdnet.mpi-inf.mpg.de (lakdnet.mpi-inf.mpg.de)|139.19.206.65|:443... connected.\n",
            "HTTP request sent, awaiting response... 200 OK\n",
            "Length: 71240575 (68M)\n",
            "Saving to: ‘./ckpts/train_on_dpdd_s.pth’\n",
            "\n",
            "./ckpts/train_on_dp 100%[===================>]  67.94M  20.4MB/s    in 4.4s    \n",
            "\n",
            "2024-07-22 13:09:20 (15.6 MB/s) - ‘./ckpts/train_on_dpdd_s.pth’ saved [71240575/71240575]\n",
            "\n"
          ]
        }
      ]
    },
    {
      "cell_type": "code",
      "source": [
        "# 3. Model is trained on LFDOF/DPDD, small\n",
        "!mkdir -p ./ckpts\n",
        "!wget -O ./ckpts/train_on_lfdpdd_s.pth \"https://lakdnet.mpi-inf.mpg.de/Weights/Defocus/train_on_lfdpdd_s/train_on_lfdpdd_s.pth\""
      ],
      "metadata": {
        "id": "bR5OS5FiKsUj"
      },
      "execution_count": null,
      "outputs": []
    },
    {
      "cell_type": "code",
      "source": [
        "# 4. Model is trained on DPDD, large\n",
        "!mkdir -p ./ckpts\n",
        "!wget -O ./ckpts/train_on_dpdd_l.pth \"https://lakdnet.mpi-inf.mpg.de/Weights/Defocus/train_on_dpdd_l/train_on_dpdd_l.pth\""
      ],
      "metadata": {
        "id": "tAvOTa6bNmUZ"
      },
      "execution_count": null,
      "outputs": []
    },
    {
      "cell_type": "code",
      "source": [
        "print(\"Contents of ckpts directory:\")\n",
        "!ls ./ckpts"
      ],
      "metadata": {
        "colab": {
          "base_uri": "https://localhost:8080/"
        },
        "id": "F1oKroMRXz-g",
        "outputId": "cffeb16f-77de-443f-8870-14426b9e9a72"
      },
      "execution_count": null,
      "outputs": [
        {
          "output_type": "stream",
          "name": "stdout",
          "text": [
            "Contents of ckpts directory:\n",
            "placeholder.txt  train_on_dpdd_s.pth\n"
          ]
        }
      ]
    },
    {
      "cell_type": "code",
      "source": [
        "# List the contents of your Google Drive to ensure the path is correct\n",
        "!ls /content/drive/MyDrive/DistortedImagesCID"
      ],
      "metadata": {
        "colab": {
          "base_uri": "https://localhost:8080/"
        },
        "id": "ESUZ5KGXDiU1",
        "outputId": "723f3e55-b90c-478a-e265-65eac32f61ca"
      },
      "execution_count": null,
      "outputs": [
        {
          "output_type": "stream",
          "name": "stdout",
          "text": [
            "input  target\n"
          ]
        }
      ]
    },
    {
      "cell_type": "code",
      "source": [
        "# Copy dataset from Google Drive to the directory\n",
        "!cp -r \"/content/drive/MyDrive/DistortedImagesCID\" ./Test_sets/"
      ],
      "metadata": {
        "id": "_ny6881SCXze"
      },
      "execution_count": null,
      "outputs": []
    },
    {
      "cell_type": "code",
      "source": [
        "# List the contents of the Test_sets directory to ensure the dataset is copied correctly\n",
        "!ls ./Test_sets/DistortedImagesCID"
      ],
      "metadata": {
        "colab": {
          "base_uri": "https://localhost:8080/"
        },
        "id": "6YyBZz-uDrSl",
        "outputId": "c18c7185-448c-4b09-a7df-5f04170888d0"
      },
      "execution_count": null,
      "outputs": [
        {
          "output_type": "stream",
          "name": "stdout",
          "text": [
            "input  target\n"
          ]
        }
      ]
    },
    {
      "cell_type": "markdown",
      "source": [
        "# Either run 1, 2, 3 or 4.\n",
        "\n",
        "Change the name of dataset accordingly"
      ],
      "metadata": {
        "id": "GYYhcSRWN1vP"
      }
    },
    {
      "cell_type": "code",
      "source": [
        "# 1. Update Test_configs.yml\n",
        "config_yml = \"\"\"\n",
        "Defocus:\n",
        "  test_status: ['train_on_lfdof_s']\n",
        "  eval_data: ['DistortedImagesCID']\n",
        "  net_configs: ['network_s']\n",
        "  weight:\n",
        "    train_on_lfdof_s: './ckpts/train_on_lfdof_s.pth'\n",
        "\n",
        "  DistortedImagesCID:\n",
        "    dataroot_lq: './Test_sets/DistortedImagesCID'\n",
        "    dataroot_gt: './Test_sets/DistortedImagesCID'\n",
        "\n",
        "  network_s:\n",
        "    inp_channels: 3\n",
        "    out_channels: 3\n",
        "    dim: 32\n",
        "    num_blocks: [8, 12, 12, 16]\n",
        "    mix_kernel_size: [9, 9, 9, 9]\n",
        "\"\"\"\n",
        "\n",
        "with open('./options/Test_configs.yml', 'w') as file:\n",
        "    file.write(config_yml)"
      ],
      "metadata": {
        "id": "5FSolkjYH7_u"
      },
      "execution_count": null,
      "outputs": []
    },
    {
      "cell_type": "code",
      "source": [
        "# 2. Update Test_configs.yml\n",
        "config_yml = \"\"\"\n",
        "Defocus:\n",
        "  test_status: ['train_on_dpdd_s']\n",
        "  eval_data: ['DistortedImagesCID']\n",
        "  net_configs: ['network_s']\n",
        "  weight:\n",
        "    train_on_dpdd_s: './ckpts/train_on_dpdd_s.pth'\n",
        "\n",
        "  DistortedImagesCID:\n",
        "    dataroot_lq: './Test_sets/DistortedImagesCID'\n",
        "    dataroot_gt: './Test_sets/DistortedImagesCID'\n",
        "\n",
        "  network_s:\n",
        "    inp_channels: 3\n",
        "    out_channels: 3\n",
        "    dim: 32\n",
        "    num_blocks: [8, 12, 12, 16]\n",
        "    mix_kernel_size: [9, 9, 9, 9]\n",
        "\"\"\"\n",
        "\n",
        "with open('./options/Test_configs.yml', 'w') as file:\n",
        "    file.write(config_yml)"
      ],
      "metadata": {
        "id": "J74orFxGJ7TZ"
      },
      "execution_count": null,
      "outputs": []
    },
    {
      "cell_type": "code",
      "source": [
        "# 3. Update Test_configs.yml\n",
        "config_yml = \"\"\"\n",
        "Defocus:\n",
        "  test_status: ['train_on_lfdpdd_s']\n",
        "  eval_data: ['DistortedImagesCID']\n",
        "  net_configs: ['network_s']\n",
        "  weight:\n",
        "    train_on_lfdpdd_s: './ckpts/train_on_lfdpdd_s.pth'\n",
        "\n",
        "  DistortedImagesCID:\n",
        "    dataroot_lq: './Test_sets/DistortedImagesCID'\n",
        "    dataroot_gt: './Test_sets/DistortedImagesCID'\n",
        "\n",
        "  network_s:\n",
        "    inp_channels: 3\n",
        "    out_channels: 3\n",
        "    dim: 32\n",
        "    num_blocks: [8, 12, 12, 16]\n",
        "    mix_kernel_size: [9, 9, 9, 9]\n",
        "\"\"\"\n",
        "\n",
        "with open('./options/Test_configs.yml', 'w') as file:\n",
        "    file.write(config_yml)"
      ],
      "metadata": {
        "id": "8BowkCQgSWz4"
      },
      "execution_count": null,
      "outputs": []
    },
    {
      "cell_type": "code",
      "source": [
        "# 4. Update Test_configs.yml\n",
        "config_yml = \"\"\"\n",
        "Defocus:\n",
        "  test_status: ['train_on_dpdd_l']\n",
        "  eval_data: ['DistortedImagesCID']\n",
        "  net_configs: ['network_l']\n",
        "  weight:\n",
        "    train_on_dpdd_l: './ckpts/train_on_dpdd_l.pth'\n",
        "\n",
        "  DistortedImagesCID:\n",
        "    dataroot_lq: './Test_sets/DistortedImagesCID'\n",
        "    dataroot_gt: './Test_sets/DistortedImagesCID'\n",
        "\n",
        "  network_l:\n",
        "    inp_channels: 3\n",
        "    out_channels: 3\n",
        "    dim: 48\n",
        "    num_blocks: [8, 12, 12, 16]\n",
        "    mix_kernel_size: [9, 9, 9, 9]\n",
        "\"\"\"\n",
        "\n",
        "with open('./options/Test_configs.yml', 'w') as file:\n",
        "    file.write(config_yml)"
      ],
      "metadata": {
        "id": "bmfSZaacODKf"
      },
      "execution_count": null,
      "outputs": []
    },
    {
      "cell_type": "code",
      "source": [
        "# Modify run.py to add debug prints for results directory\n",
        "with open('run.py', 'r') as file:\n",
        "    content = file.readlines()\n",
        "\n",
        "new_content = []\n",
        "for line in content:\n",
        "    new_content.append(line)\n",
        "new_content.insert(180, 'print(f\"Results directory: {results_dir}\")\\n')\n",
        "\n",
        "with open('run.py', 'w') as file:\n",
        "    file.writelines(new_content)"
      ],
      "metadata": {
        "id": "P_LMlHmBILxi"
      },
      "execution_count": null,
      "outputs": []
    },
    {
      "cell_type": "code",
      "source": [
        "!python run.py --type Defocus"
      ],
      "metadata": {
        "colab": {
          "base_uri": "https://localhost:8080/"
        },
        "id": "RlGGUzggC_81",
        "outputId": "8c296e72-fa02-46a0-82ed-3bea3e416c27"
      },
      "execution_count": null,
      "outputs": [
        {
          "output_type": "stream",
          "name": "stdout",
          "text": [
            "Setting up [LPIPS] perceptual loss: trunk [alex], v[0.1], spatial [off]\n",
            "/usr/local/lib/python3.10/dist-packages/torchvision/models/_utils.py:208: UserWarning: The parameter 'pretrained' is deprecated since 0.13 and may be removed in the future, please use 'weights' instead.\n",
            "  warnings.warn(\n",
            "/usr/local/lib/python3.10/dist-packages/torchvision/models/_utils.py:223: UserWarning: Arguments other than a weight enum or `None` for 'weights' are deprecated since 0.13 and may be removed in the future. The current behavior is equivalent to passing `weights=AlexNet_Weights.IMAGENET1K_V1`. You can also use `weights=AlexNet_Weights.DEFAULT` to get the most up-to-date weights.\n",
            "  warnings.warn(msg)\n",
            "Downloading: \"https://download.pytorch.org/models/alexnet-owt-7be5be79.pth\" to /root/.cache/torch/hub/checkpoints/alexnet-owt-7be5be79.pth\n",
            "100% 233M/233M [00:01<00:00, 156MB/s]\n",
            "Loading model from: /usr/local/lib/python3.10/dist-packages/lpips/weights/v0.1/alex.pth\n",
            "------------- net config ---------- train_on_dpdd_s False\n",
            "[EVAL][01/276] final01_Defocus_0.5.png PSNR: 21.50181, SSIM: 0.82752, LPIPS: 0.14096\n",
            "[EVAL][02/276] final01_Defocus_1.5.png PSNR: 19.31763, SSIM: 0.65315, LPIPS: 0.30222\n",
            "[EVAL][03/276] final01_Defocus_1.png PSNR: 20.53943, SSIM: 0.74392, LPIPS: 0.27553\n",
            "[EVAL][04/276] final01_Defocus_2.png PSNR: 18.47734, SSIM: 0.57970, LPIPS: 0.37120\n",
            "[EVAL][05/276] final01_Spherical_Abberation_0.2.png PSNR: 21.15697, SSIM: 0.81232, LPIPS: 0.20045\n",
            "[EVAL][06/276] final01_Spherical_Abberation_0.4.png PSNR: 19.91415, SSIM: 0.69944, LPIPS: 0.24579\n",
            "[EVAL][07/276] final01_Spherical_Abberation_0.6.png PSNR: 18.68778, SSIM: 0.61294, LPIPS: 0.33214\n",
            "[EVAL][08/276] final01_Spherical_Abberation_0.9.png PSNR: 17.19893, SSIM: 0.50188, LPIPS: 0.52903\n",
            "[EVAL][09/276] final01_Vertical_Astigmatism_0.5.png PSNR: 21.78371, SSIM: 0.83353, LPIPS: 0.12075\n",
            "[EVAL][10/276] final01_Vertical_Astigmatism_1.5.png PSNR: 20.45704, SSIM: 0.73347, LPIPS: 0.22839\n",
            "[EVAL][11/276] final01_Vertical_Astigmatism_1.png PSNR: 20.88764, SSIM: 0.78747, LPIPS: 0.28334\n",
            "[EVAL][12/276] final01_Vertical_Astigmatism_2.png PSNR: 19.39168, SSIM: 0.65835, LPIPS: 0.28828\n",
            "[EVAL][13/276] final02_Defocus_0.5.png PSNR: 23.12283, SSIM: 0.80254, LPIPS: 0.14469\n",
            "[EVAL][14/276] final02_Defocus_1.5.png PSNR: 22.88317, SSIM: 0.80689, LPIPS: 0.17721\n",
            "[EVAL][15/276] final02_Defocus_1.png PSNR: 22.96453, SSIM: 0.80295, LPIPS: 0.16083\n",
            "[EVAL][16/276] final02_Defocus_2.png PSNR: 22.72509, SSIM: 0.81337, LPIPS: 0.18692\n",
            "[EVAL][17/276] final02_Spherical_Abberation_0.2.png PSNR: 23.05152, SSIM: 0.80219, LPIPS: 0.14926\n",
            "[EVAL][18/276] final02_Spherical_Abberation_0.4.png PSNR: 22.94550, SSIM: 0.80341, LPIPS: 0.16969\n",
            "[EVAL][19/276] final02_Spherical_Abberation_0.6.png PSNR: 22.76090, SSIM: 0.81184, LPIPS: 0.18115\n",
            "[EVAL][20/276] final02_Spherical_Abberation_0.9.png PSNR: 22.94899, SSIM: 0.83026, LPIPS: 0.18435\n",
            "[EVAL][21/276] final02_Vertical_Astigmatism_0.5.png PSNR: 23.17382, SSIM: 0.80058, LPIPS: 0.14586\n",
            "[EVAL][22/276] final02_Vertical_Astigmatism_1.5.png PSNR: 22.96966, SSIM: 0.80245, LPIPS: 0.16364\n",
            "[EVAL][23/276] final02_Vertical_Astigmatism_1.png PSNR: 23.02678, SSIM: 0.79963, LPIPS: 0.15421\n",
            "[EVAL][24/276] final02_Vertical_Astigmatism_2.png PSNR: 22.90996, SSIM: 0.80512, LPIPS: 0.17474\n",
            "[EVAL][25/276] final03_Defocus_0.5.png PSNR: 23.31874, SSIM: 0.81251, LPIPS: 0.14288\n",
            "[EVAL][26/276] final03_Defocus_1.5.png PSNR: 22.38284, SSIM: 0.73188, LPIPS: 0.24011\n",
            "[EVAL][27/276] final03_Defocus_1.png PSNR: 23.27229, SSIM: 0.76933, LPIPS: 0.26300\n",
            "[EVAL][28/276] final03_Defocus_2.png PSNR: 19.64528, SSIM: 0.68160, LPIPS: 0.29090\n",
            "[EVAL][29/276] final03_Spherical_Abberation_0.2.png PSNR: 22.77122, SSIM: 0.78949, LPIPS: 0.21995\n",
            "[EVAL][30/276] final03_Spherical_Abberation_0.4.png PSNR: 23.21637, SSIM: 0.75298, LPIPS: 0.19321\n",
            "[EVAL][31/276] final03_Spherical_Abberation_0.6.png PSNR: 19.90948, SSIM: 0.71029, LPIPS: 0.24651\n",
            "[EVAL][32/276] final03_Spherical_Abberation_0.9.png PSNR: 15.34350, SSIM: 0.55441, LPIPS: 0.45126\n",
            "[EVAL][33/276] final03_Vertical_Astigmatism_0.5.png PSNR: 23.67813, SSIM: 0.82165, LPIPS: 0.10923\n",
            "[EVAL][34/276] final03_Vertical_Astigmatism_1.5.png PSNR: 23.12862, SSIM: 0.73347, LPIPS: 0.21991\n",
            "[EVAL][35/276] final03_Vertical_Astigmatism_1.png PSNR: 22.79217, SSIM: 0.78133, LPIPS: 0.27667\n",
            "[EVAL][36/276] final03_Vertical_Astigmatism_2.png PSNR: 22.45352, SSIM: 0.73380, LPIPS: 0.23649\n",
            "[EVAL][37/276] final04_Defocus_0.5.png PSNR: 18.70028, SSIM: 0.93890, LPIPS: 0.08859\n",
            "[EVAL][38/276] final04_Defocus_1.5.png PSNR: 18.46794, SSIM: 0.88940, LPIPS: 0.17526\n",
            "[EVAL][39/276] final04_Defocus_1.png PSNR: 18.73024, SSIM: 0.90943, LPIPS: 0.16967\n",
            "[EVAL][40/276] final04_Defocus_2.png PSNR: 18.17123, SSIM: 0.86919, LPIPS: 0.21687\n",
            "[EVAL][41/276] final04_Spherical_Abberation_0.2.png PSNR: 18.67502, SSIM: 0.92945, LPIPS: 0.12295\n",
            "[EVAL][42/276] final04_Spherical_Abberation_0.4.png PSNR: 18.54909, SSIM: 0.89552, LPIPS: 0.14285\n",
            "[EVAL][43/276] final04_Spherical_Abberation_0.6.png PSNR: 18.13602, SSIM: 0.87232, LPIPS: 0.19762\n",
            "[EVAL][44/276] final04_Spherical_Abberation_0.9.png PSNR: 18.47487, SSIM: 0.84466, LPIPS: 0.25464\n",
            "[EVAL][45/276] final04_Vertical_Astigmatism_0.5.png PSNR: 18.77192, SSIM: 0.94051, LPIPS: 0.08186\n",
            "[EVAL][46/276] final04_Vertical_Astigmatism_1.5.png PSNR: 18.65786, SSIM: 0.90591, LPIPS: 0.14379\n",
            "[EVAL][47/276] final04_Vertical_Astigmatism_1.png PSNR: 18.75599, SSIM: 0.92254, LPIPS: 0.15204\n",
            "[EVAL][48/276] final04_Vertical_Astigmatism_2.png PSNR: 18.47015, SSIM: 0.88969, LPIPS: 0.16832\n",
            "[EVAL][49/276] final05_Defocus_0.5.png PSNR: 28.61830, SSIM: 0.84892, LPIPS: 0.07773\n",
            "[EVAL][50/276] final05_Defocus_1.5.png PSNR: 27.12077, SSIM: 0.81322, LPIPS: 0.17515\n",
            "[EVAL][51/276] final05_Defocus_1.png PSNR: 27.78224, SSIM: 0.82285, LPIPS: 0.13208\n",
            "[EVAL][52/276] final05_Defocus_2.png PSNR: 25.51932, SSIM: 0.80540, LPIPS: 0.19633\n",
            "[EVAL][53/276] final05_Spherical_Abberation_0.2.png PSNR: 28.37421, SSIM: 0.84034, LPIPS: 0.09511\n",
            "[EVAL][54/276] final05_Spherical_Abberation_0.4.png PSNR: 27.64994, SSIM: 0.81804, LPIPS: 0.14410\n",
            "[EVAL][55/276] final05_Spherical_Abberation_0.6.png PSNR: 25.76177, SSIM: 0.81228, LPIPS: 0.17394\n",
            "[EVAL][56/276] final05_Spherical_Abberation_0.9.png PSNR: 24.06101, SSIM: 0.79371, LPIPS: 0.23544\n",
            "[EVAL][57/276] final05_Vertical_Astigmatism_0.5.png PSNR: 28.65683, SSIM: 0.84748, LPIPS: 0.07838\n",
            "[EVAL][58/276] final05_Vertical_Astigmatism_1.5.png PSNR: 27.70572, SSIM: 0.81946, LPIPS: 0.13148\n",
            "[EVAL][59/276] final05_Vertical_Astigmatism_1.png PSNR: 28.16439, SSIM: 0.83354, LPIPS: 0.10970\n",
            "[EVAL][60/276] final05_Vertical_Astigmatism_2.png PSNR: 27.17526, SSIM: 0.81062, LPIPS: 0.16821\n",
            "[EVAL][61/276] final06_Defocus_0.5.png PSNR: 28.75558, SSIM: 0.91896, LPIPS: 0.08036\n",
            "[EVAL][62/276] final06_Defocus_1.5.png PSNR: 27.66872, SSIM: 0.78412, LPIPS: 0.25943\n",
            "[EVAL][63/276] final06_Defocus_1.png PSNR: 28.17374, SSIM: 0.83111, LPIPS: 0.22559\n",
            "[EVAL][64/276] final06_Defocus_2.png PSNR: 26.53052, SSIM: 0.73615, LPIPS: 0.32367\n",
            "[EVAL][65/276] final06_Spherical_Abberation_0.2.png PSNR: 28.21462, SSIM: 0.89409, LPIPS: 0.14536\n",
            "[EVAL][66/276] final06_Spherical_Abberation_0.4.png PSNR: 27.74354, SSIM: 0.80598, LPIPS: 0.20803\n",
            "[EVAL][67/276] final06_Spherical_Abberation_0.6.png PSNR: 26.61836, SSIM: 0.76794, LPIPS: 0.27638\n",
            "[EVAL][68/276] final06_Spherical_Abberation_0.9.png PSNR: 25.51294, SSIM: 0.69631, LPIPS: 0.37620\n",
            "[EVAL][69/276] final06_Vertical_Astigmatism_0.5.png PSNR: 29.01424, SSIM: 0.92347, LPIPS: 0.06219\n",
            "[EVAL][70/276] final06_Vertical_Astigmatism_1.5.png PSNR: 28.06488, SSIM: 0.82247, LPIPS: 0.20016\n",
            "[EVAL][71/276] final06_Vertical_Astigmatism_1.png PSNR: 28.18420, SSIM: 0.87504, LPIPS: 0.20024\n",
            "[EVAL][72/276] final06_Vertical_Astigmatism_2.png PSNR: 27.71763, SSIM: 0.78979, LPIPS: 0.25035\n",
            "[EVAL][73/276] final07_Defocus_0.5.png PSNR: 22.62419, SSIM: 0.94892, LPIPS: 0.07404\n",
            "[EVAL][74/276] final07_Defocus_1.5.png PSNR: 21.58351, SSIM: 0.90156, LPIPS: 0.16895\n",
            "[EVAL][75/276] final07_Defocus_1.png PSNR: 22.26795, SSIM: 0.92141, LPIPS: 0.15258\n",
            "[EVAL][76/276] final07_Defocus_2.png PSNR: 20.79355, SSIM: 0.87897, LPIPS: 0.21413\n",
            "[EVAL][77/276] final07_Spherical_Abberation_0.2.png PSNR: 22.61810, SSIM: 0.94319, LPIPS: 0.10214\n",
            "[EVAL][78/276] final07_Spherical_Abberation_0.4.png PSNR: 21.83497, SSIM: 0.91142, LPIPS: 0.14135\n",
            "[EVAL][79/276] final07_Spherical_Abberation_0.6.png PSNR: 20.76133, SSIM: 0.88826, LPIPS: 0.18586\n",
            "[EVAL][80/276] final07_Spherical_Abberation_0.9.png PSNR: 20.65433, SSIM: 0.84869, LPIPS: 0.24907\n",
            "[EVAL][81/276] final07_Vertical_Astigmatism_0.5.png PSNR: 22.71184, SSIM: 0.95005, LPIPS: 0.06132\n",
            "[EVAL][82/276] final07_Vertical_Astigmatism_1.5.png PSNR: 22.11040, SSIM: 0.91888, LPIPS: 0.13634\n",
            "[EVAL][83/276] final07_Vertical_Astigmatism_1.png PSNR: 22.60158, SSIM: 0.93508, LPIPS: 0.11903\n",
            "[EVAL][84/276] final07_Vertical_Astigmatism_2.png PSNR: 21.64718, SSIM: 0.90477, LPIPS: 0.16022\n",
            "[EVAL][85/276] final08_Defocus_0.5.png PSNR: 28.46279, SSIM: 0.92191, LPIPS: 0.13375\n",
            "[EVAL][86/276] final08_Defocus_1.5.png PSNR: 24.46606, SSIM: 0.87704, LPIPS: 0.19370\n",
            "[EVAL][87/276] final08_Defocus_1.png PSNR: 27.68637, SSIM: 0.90549, LPIPS: 0.18326\n",
            "[EVAL][88/276] final08_Defocus_2.png PSNR: 22.99558, SSIM: 0.87346, LPIPS: 0.20160\n",
            "[EVAL][89/276] final08_Spherical_Abberation_0.2.png PSNR: 28.50141, SSIM: 0.92712, LPIPS: 0.14243\n",
            "[EVAL][90/276] final08_Spherical_Abberation_0.4.png PSNR: 25.91543, SSIM: 0.88497, LPIPS: 0.17955\n",
            "[EVAL][91/276] final08_Spherical_Abberation_0.6.png PSNR: 23.17254, SSIM: 0.87615, LPIPS: 0.17971\n",
            "[EVAL][92/276] final08_Spherical_Abberation_0.9.png PSNR: 23.23121, SSIM: 0.86535, LPIPS: 0.21206\n",
            "[EVAL][93/276] final08_Vertical_Astigmatism_0.5.png PSNR: 28.43824, SSIM: 0.91676, LPIPS: 0.13440\n",
            "[EVAL][94/276] final08_Vertical_Astigmatism_1.5.png PSNR: 27.15236, SSIM: 0.89247, LPIPS: 0.18315\n",
            "[EVAL][95/276] final08_Vertical_Astigmatism_1.png PSNR: 28.38929, SSIM: 0.92249, LPIPS: 0.15663\n",
            "[EVAL][96/276] final08_Vertical_Astigmatism_2.png PSNR: 24.67712, SSIM: 0.87659, LPIPS: 0.18972\n",
            "[EVAL][97/276] final09_Defocus_0.5.png PSNR: 18.24933, SSIM: 0.77594, LPIPS: 0.33377\n",
            "[EVAL][98/276] final09_Defocus_1.5.png PSNR: 16.91358, SSIM: 0.83549, LPIPS: 0.25526\n",
            "[EVAL][99/276] final09_Defocus_1.png PSNR: 17.75960, SSIM: 0.82563, LPIPS: 0.29323\n",
            "[EVAL][100/276] final09_Defocus_2.png PSNR: 16.25204, SSIM: 0.83613, LPIPS: 0.26549\n",
            "[EVAL][101/276] final09_Spherical_Abberation_0.2.png PSNR: 18.06162, SSIM: 0.79335, LPIPS: 0.31821\n",
            "[EVAL][102/276] final09_Spherical_Abberation_0.4.png PSNR: 17.33840, SSIM: 0.83439, LPIPS: 0.25024\n",
            "[EVAL][103/276] final09_Spherical_Abberation_0.6.png PSNR: 16.17061, SSIM: 0.83049, LPIPS: 0.24720\n",
            "[EVAL][104/276] final09_Spherical_Abberation_0.9.png PSNR: 14.97833, SSIM: 0.79357, LPIPS: 0.29455\n",
            "[EVAL][105/276] final09_Vertical_Astigmatism_0.5.png PSNR: 18.38722, SSIM: 0.76202, LPIPS: 0.35010\n",
            "[EVAL][106/276] final09_Vertical_Astigmatism_1.5.png PSNR: 17.61978, SSIM: 0.83206, LPIPS: 0.27198\n",
            "[EVAL][107/276] final09_Vertical_Astigmatism_1.png PSNR: 17.96115, SSIM: 0.79920, LPIPS: 0.32805\n",
            "[EVAL][108/276] final09_Vertical_Astigmatism_2.png PSNR: 17.06922, SSIM: 0.83597, LPIPS: 0.25176\n",
            "[EVAL][109/276] final10_Defocus_0.5.png PSNR: 20.97799, SSIM: 0.85424, LPIPS: 0.09913\n",
            "[EVAL][110/276] final10_Defocus_1.5.png PSNR: 16.18571, SSIM: 0.79426, LPIPS: 0.15293\n",
            "[EVAL][111/276] final10_Defocus_1.png PSNR: 19.64864, SSIM: 0.85165, LPIPS: 0.14664\n",
            "[EVAL][112/276] final10_Defocus_2.png PSNR: 14.23580, SSIM: 0.74435, LPIPS: 0.18105\n",
            "[EVAL][113/276] final10_Spherical_Abberation_0.2.png PSNR: 20.41780, SSIM: 0.84656, LPIPS: 0.15682\n",
            "[EVAL][114/276] final10_Spherical_Abberation_0.4.png PSNR: 17.09572, SSIM: 0.82448, LPIPS: 0.11614\n",
            "[EVAL][115/276] final10_Spherical_Abberation_0.6.png PSNR: 14.51656, SSIM: 0.73897, LPIPS: 0.17093\n",
            "[EVAL][116/276] final10_Spherical_Abberation_0.9.png PSNR: 11.59517, SSIM: 0.61215, LPIPS: 0.32914\n",
            "[EVAL][117/276] final10_Vertical_Astigmatism_0.5.png PSNR: 21.75626, SSIM: 0.86812, LPIPS: 0.07154\n",
            "[EVAL][118/276] final10_Vertical_Astigmatism_1.5.png PSNR: 19.11866, SSIM: 0.85712, LPIPS: 0.09408\n",
            "[EVAL][119/276] final10_Vertical_Astigmatism_1.png PSNR: 20.39775, SSIM: 0.85399, LPIPS: 0.16885\n",
            "[EVAL][120/276] final10_Vertical_Astigmatism_2.png PSNR: 16.39660, SSIM: 0.80205, LPIPS: 0.13998\n",
            "[EVAL][121/276] final11_Defocus_0.5.png PSNR: 19.03137, SSIM: 0.80870, LPIPS: 0.20756\n",
            "[EVAL][122/276] final11_Defocus_1.5.png PSNR: 17.55136, SSIM: 0.83616, LPIPS: 0.15577\n",
            "[EVAL][123/276] final11_Defocus_1.png PSNR: 19.07171, SSIM: 0.84355, LPIPS: 0.18566\n",
            "[EVAL][124/276] final11_Defocus_2.png PSNR: 15.31975, SSIM: 0.78208, LPIPS: 0.20211\n",
            "[EVAL][125/276] final11_Spherical_Abberation_0.2.png PSNR: 18.79812, SSIM: 0.81906, LPIPS: 0.21712\n",
            "[EVAL][126/276] final11_Spherical_Abberation_0.4.png PSNR: 18.26142, SSIM: 0.84089, LPIPS: 0.14338\n",
            "[EVAL][127/276] final11_Spherical_Abberation_0.6.png PSNR: 15.18861, SSIM: 0.77071, LPIPS: 0.18221\n",
            "[EVAL][128/276] final11_Spherical_Abberation_0.9.png PSNR: 12.93475, SSIM: 0.68907, LPIPS: 0.29282\n",
            "[EVAL][129/276] final11_Vertical_Astigmatism_0.5.png PSNR: 19.25392, SSIM: 0.80079, LPIPS: 0.20549\n",
            "[EVAL][130/276] final11_Vertical_Astigmatism_1.5.png PSNR: 18.82457, SSIM: 0.84224, LPIPS: 0.15136\n",
            "[EVAL][131/276] final11_Vertical_Astigmatism_1.png PSNR: 18.87319, SSIM: 0.82823, LPIPS: 0.21942\n",
            "[EVAL][132/276] final11_Vertical_Astigmatism_2.png PSNR: 17.70254, SSIM: 0.83552, LPIPS: 0.15234\n",
            "[EVAL][133/276] final12_Defocus_0.5.png PSNR: 17.27689, SSIM: 0.62439, LPIPS: 0.10058\n",
            "[EVAL][134/276] final12_Defocus_1.5.png PSNR: 17.21197, SSIM: 0.61751, LPIPS: 0.12807\n",
            "[EVAL][135/276] final12_Defocus_1.png PSNR: 17.24855, SSIM: 0.62099, LPIPS: 0.11377\n",
            "[EVAL][136/276] final12_Defocus_2.png PSNR: 17.17680, SSIM: 0.61305, LPIPS: 0.15094\n",
            "[EVAL][137/276] final12_Spherical_Abberation_0.2.png PSNR: 17.27094, SSIM: 0.62343, LPIPS: 0.10500\n",
            "[EVAL][138/276] final12_Spherical_Abberation_0.4.png PSNR: 17.23483, SSIM: 0.61906, LPIPS: 0.12149\n",
            "[EVAL][139/276] final12_Spherical_Abberation_0.6.png PSNR: 17.18942, SSIM: 0.61364, LPIPS: 0.14521\n",
            "[EVAL][140/276] final12_Spherical_Abberation_0.9.png PSNR: 17.18623, SSIM: 0.60410, LPIPS: 0.19001\n",
            "[EVAL][141/276] final12_Vertical_Astigmatism_0.5.png PSNR: 17.28458, SSIM: 0.62494, LPIPS: 0.09814\n",
            "[EVAL][142/276] final12_Vertical_Astigmatism_1.5.png PSNR: 17.24788, SSIM: 0.62047, LPIPS: 0.11650\n",
            "[EVAL][143/276] final12_Vertical_Astigmatism_1.png PSNR: 17.26687, SSIM: 0.62284, LPIPS: 0.10767\n",
            "[EVAL][144/276] final12_Vertical_Astigmatism_2.png PSNR: 17.21567, SSIM: 0.61782, LPIPS: 0.12666\n",
            "[EVAL][145/276] final13_Defocus_0.5.png PSNR: 27.27048, SSIM: 0.94994, LPIPS: 0.05335\n",
            "[EVAL][146/276] final13_Defocus_1.5.png PSNR: 24.44398, SSIM: 0.84808, LPIPS: 0.18431\n",
            "[EVAL][147/276] final13_Defocus_1.png PSNR: 27.06178, SSIM: 0.88587, LPIPS: 0.18461\n",
            "[EVAL][148/276] final13_Defocus_2.png PSNR: 22.50185, SSIM: 0.78720, LPIPS: 0.24415\n",
            "[EVAL][149/276] final13_Spherical_Abberation_0.2.png PSNR: 27.78593, SSIM: 0.93826, LPIPS: 0.08961\n",
            "[EVAL][150/276] final13_Spherical_Abberation_0.4.png PSNR: 25.43073, SSIM: 0.87319, LPIPS: 0.13962\n",
            "[EVAL][151/276] final13_Spherical_Abberation_0.6.png PSNR: 22.72654, SSIM: 0.81338, LPIPS: 0.19164\n",
            "[EVAL][152/276] final13_Spherical_Abberation_0.9.png PSNR: 19.96217, SSIM: 0.69044, LPIPS: 0.30555\n",
            "[EVAL][153/276] final13_Vertical_Astigmatism_0.5.png PSNR: 27.39292, SSIM: 0.95078, LPIPS: 0.04907\n",
            "[EVAL][154/276] final13_Vertical_Astigmatism_1.5.png PSNR: 26.66931, SSIM: 0.88037, LPIPS: 0.15503\n",
            "[EVAL][155/276] final13_Vertical_Astigmatism_1.png PSNR: 28.26531, SSIM: 0.92454, LPIPS: 0.12664\n",
            "[EVAL][156/276] final13_Vertical_Astigmatism_2.png PSNR: 24.77191, SSIM: 0.85446, LPIPS: 0.17539\n",
            "[EVAL][157/276] final14_Defocus_0.5.png PSNR: 13.22387, SSIM: 0.82395, LPIPS: 0.30575\n",
            "[EVAL][158/276] final14_Defocus_1.5.png PSNR: 12.52717, SSIM: 0.74255, LPIPS: 0.45213\n",
            "[EVAL][159/276] final14_Defocus_1.png PSNR: 12.34488, SSIM: 0.78664, LPIPS: 0.39230\n",
            "[EVAL][160/276] final14_Defocus_2.png PSNR: 12.60336, SSIM: 0.74373, LPIPS: 0.44815\n",
            "[EVAL][161/276] final14_Spherical_Abberation_0.2.png PSNR: 12.22367, SSIM: 0.80960, LPIPS: 0.33308\n",
            "[EVAL][162/276] final14_Spherical_Abberation_0.4.png PSNR: 12.47783, SSIM: 0.75000, LPIPS: 0.43974\n",
            "[EVAL][163/276] final14_Spherical_Abberation_0.6.png PSNR: 12.58310, SSIM: 0.74182, LPIPS: 0.44567\n",
            "[EVAL][164/276] final14_Spherical_Abberation_0.9.png PSNR: 12.67678, SSIM: 0.77662, LPIPS: 0.39477\n",
            "[EVAL][165/276] final14_Vertical_Astigmatism_0.5.png PSNR: 14.14053, SSIM: 0.83585, LPIPS: 0.28976\n",
            "[EVAL][166/276] final14_Vertical_Astigmatism_1.5.png PSNR: 12.39041, SSIM: 0.77779, LPIPS: 0.40430\n",
            "[EVAL][167/276] final14_Vertical_Astigmatism_1.png PSNR: 12.23656, SSIM: 0.80311, LPIPS: 0.35531\n",
            "[EVAL][168/276] final14_Vertical_Astigmatism_2.png PSNR: 12.50608, SSIM: 0.74308, LPIPS: 0.44917\n",
            "[EVAL][169/276] final15_Defocus_0.5.png PSNR: 25.93689, SSIM: 0.87491, LPIPS: 0.07725\n",
            "[EVAL][170/276] final15_Defocus_1.5.png PSNR: 24.41801, SSIM: 0.76752, LPIPS: 0.17531\n",
            "[EVAL][171/276] final15_Defocus_1.png PSNR: 25.52604, SSIM: 0.83635, LPIPS: 0.14777\n",
            "[EVAL][172/276] final15_Defocus_2.png PSNR: 23.08606, SSIM: 0.69668, LPIPS: 0.21514\n",
            "[EVAL][173/276] final15_Spherical_Abberation_0.2.png PSNR: 26.34810, SSIM: 0.88009, LPIPS: 0.10811\n",
            "[EVAL][174/276] final15_Spherical_Abberation_0.4.png PSNR: 24.90908, SSIM: 0.80450, LPIPS: 0.13752\n",
            "[EVAL][175/276] final15_Spherical_Abberation_0.6.png PSNR: 23.04725, SSIM: 0.70829, LPIPS: 0.18839\n",
            "[EVAL][176/276] final15_Spherical_Abberation_0.9.png PSNR: 21.27261, SSIM: 0.61896, LPIPS: 0.28789\n",
            "[EVAL][177/276] final15_Vertical_Astigmatism_0.5.png PSNR: 25.35476, SSIM: 0.84743, LPIPS: 0.06812\n",
            "[EVAL][178/276] final15_Vertical_Astigmatism_1.5.png PSNR: 25.33649, SSIM: 0.82686, LPIPS: 0.13161\n",
            "[EVAL][179/276] final15_Vertical_Astigmatism_1.png PSNR: 26.24382, SSIM: 0.86946, LPIPS: 0.12814\n",
            "[EVAL][180/276] final15_Vertical_Astigmatism_2.png PSNR: 24.43052, SSIM: 0.77310, LPIPS: 0.17035\n",
            "[EVAL][181/276] final16_Defocus_0.5.png PSNR: 23.74313, SSIM: 0.88810, LPIPS: 0.10135\n",
            "[EVAL][182/276] final16_Defocus_1.5.png PSNR: 21.39275, SSIM: 0.88203, LPIPS: 0.13777\n",
            "[EVAL][183/276] final16_Defocus_1.png PSNR: 21.61945, SSIM: 0.89259, LPIPS: 0.13234\n",
            "[EVAL][184/276] final16_Defocus_2.png PSNR: 21.01526, SSIM: 0.86003, LPIPS: 0.16080\n",
            "[EVAL][185/276] final16_Spherical_Abberation_0.2.png PSNR: 22.77999, SSIM: 0.89275, LPIPS: 0.11254\n",
            "[EVAL][186/276] final16_Spherical_Abberation_0.4.png PSNR: 21.52296, SSIM: 0.88490, LPIPS: 0.12878\n",
            "[EVAL][187/276] final16_Spherical_Abberation_0.6.png PSNR: 21.02754, SSIM: 0.86017, LPIPS: 0.15351\n",
            "[EVAL][188/276] final16_Spherical_Abberation_0.9.png PSNR: 20.50081, SSIM: 0.82838, LPIPS: 0.20460\n",
            "[EVAL][189/276] final16_Vertical_Astigmatism_0.5.png PSNR: 24.45964, SSIM: 0.88426, LPIPS: 0.09607\n",
            "[EVAL][190/276] final16_Vertical_Astigmatism_1.5.png PSNR: 21.60555, SSIM: 0.89058, LPIPS: 0.12684\n",
            "[EVAL][191/276] final16_Vertical_Astigmatism_1.png PSNR: 22.12329, SSIM: 0.89317, LPIPS: 0.12633\n",
            "[EVAL][192/276] final16_Vertical_Astigmatism_2.png PSNR: 21.41641, SSIM: 0.88194, LPIPS: 0.13512\n",
            "[EVAL][193/276] final17_Defocus_0.5.png PSNR: 23.43850, SSIM: 0.87778, LPIPS: 0.09440\n",
            "[EVAL][194/276] final17_Defocus_1.5.png PSNR: 19.56089, SSIM: 0.67442, LPIPS: 0.24664\n",
            "[EVAL][195/276] final17_Defocus_1.png PSNR: 20.85091, SSIM: 0.77672, LPIPS: 0.18354\n",
            "[EVAL][196/276] final17_Defocus_2.png PSNR: 18.69510, SSIM: 0.63872, LPIPS: 0.28257\n",
            "[EVAL][197/276] final17_Spherical_Abberation_0.2.png PSNR: 22.36833, SSIM: 0.84657, LPIPS: 0.12151\n",
            "[EVAL][198/276] final17_Spherical_Abberation_0.4.png PSNR: 19.93662, SSIM: 0.70277, LPIPS: 0.21803\n",
            "[EVAL][199/276] final17_Spherical_Abberation_0.6.png PSNR: 18.14041, SSIM: 0.59375, LPIPS: 0.26803\n",
            "[EVAL][200/276] final17_Spherical_Abberation_0.9.png PSNR: 17.31248, SSIM: 0.51633, LPIPS: 0.34314\n",
            "[EVAL][201/276] final17_Vertical_Astigmatism_0.5.png PSNR: 24.03876, SSIM: 0.88823, LPIPS: 0.08246\n",
            "[EVAL][202/276] final17_Vertical_Astigmatism_1.5.png PSNR: 20.51712, SSIM: 0.74458, LPIPS: 0.17971\n",
            "[EVAL][203/276] final17_Vertical_Astigmatism_1.png PSNR: 22.05960, SSIM: 0.83159, LPIPS: 0.14028\n",
            "[EVAL][204/276] final17_Vertical_Astigmatism_2.png PSNR: 19.72263, SSIM: 0.68022, LPIPS: 0.23695\n",
            "[EVAL][205/276] final18_Defocus_0.5.png PSNR: 23.01302, SSIM: 0.95059, LPIPS: 0.05398\n",
            "[EVAL][206/276] final18_Defocus_1.5.png PSNR: 23.00021, SSIM: 0.87255, LPIPS: 0.17866\n",
            "[EVAL][207/276] final18_Defocus_1.png PSNR: 23.09094, SSIM: 0.90342, LPIPS: 0.12135\n",
            "[EVAL][208/276] final18_Defocus_2.png PSNR: 21.72395, SSIM: 0.83521, LPIPS: 0.21226\n",
            "[EVAL][209/276] final18_Spherical_Abberation_0.2.png PSNR: 23.05738, SSIM: 0.94015, LPIPS: 0.07094\n",
            "[EVAL][210/276] final18_Spherical_Abberation_0.4.png PSNR: 23.22940, SSIM: 0.89737, LPIPS: 0.14205\n",
            "[EVAL][211/276] final18_Spherical_Abberation_0.6.png PSNR: 21.80771, SSIM: 0.85330, LPIPS: 0.18008\n",
            "[EVAL][212/276] final18_Spherical_Abberation_0.9.png PSNR: 21.54050, SSIM: 0.82364, LPIPS: 0.20767\n",
            "[EVAL][213/276] final18_Vertical_Astigmatism_0.5.png PSNR: 22.97610, SSIM: 0.95265, LPIPS: 0.04917\n",
            "[EVAL][214/276] final18_Vertical_Astigmatism_1.5.png PSNR: 23.18088, SSIM: 0.90246, LPIPS: 0.12483\n",
            "[EVAL][215/276] final18_Vertical_Astigmatism_1.png PSNR: 23.12722, SSIM: 0.93263, LPIPS: 0.08123\n",
            "[EVAL][216/276] final18_Vertical_Astigmatism_2.png PSNR: 23.11762, SSIM: 0.88087, LPIPS: 0.16643\n",
            "[EVAL][217/276] final19_Defocus_0.5.png PSNR: 28.81385, SSIM: 0.84950, LPIPS: 0.12569\n",
            "[EVAL][218/276] final19_Defocus_1.5.png PSNR: 28.20092, SSIM: 0.84788, LPIPS: 0.15780\n",
            "[EVAL][219/276] final19_Defocus_1.png PSNR: 29.00332, SSIM: 0.85073, LPIPS: 0.13947\n",
            "[EVAL][220/276] final19_Defocus_2.png PSNR: 26.13215, SSIM: 0.83215, LPIPS: 0.19418\n",
            "[EVAL][221/276] final19_Spherical_Abberation_0.2.png PSNR: 29.12478, SSIM: 0.85465, LPIPS: 0.12383\n",
            "[EVAL][222/276] final19_Spherical_Abberation_0.4.png PSNR: 28.73034, SSIM: 0.85154, LPIPS: 0.13397\n",
            "[EVAL][223/276] final19_Spherical_Abberation_0.6.png PSNR: 26.55856, SSIM: 0.83838, LPIPS: 0.16921\n",
            "[EVAL][224/276] final19_Spherical_Abberation_0.9.png PSNR: 24.44730, SSIM: 0.79890, LPIPS: 0.22811\n",
            "[EVAL][225/276] final19_Vertical_Astigmatism_0.5.png PSNR: 28.63827, SSIM: 0.84183, LPIPS: 0.13309\n",
            "[EVAL][226/276] final19_Vertical_Astigmatism_1.5.png PSNR: 28.94564, SSIM: 0.85076, LPIPS: 0.13170\n",
            "[EVAL][227/276] final19_Vertical_Astigmatism_1.png PSNR: 29.18593, SSIM: 0.85266, LPIPS: 0.12804\n",
            "[EVAL][228/276] final19_Vertical_Astigmatism_2.png PSNR: 28.32065, SSIM: 0.84779, LPIPS: 0.15055\n",
            "[EVAL][229/276] final20_Defocus_0.5.png PSNR: 28.92219, SSIM: 0.96208, LPIPS: 0.04614\n",
            "[EVAL][230/276] final20_Defocus_1.5.png PSNR: 22.77370, SSIM: 0.92182, LPIPS: 0.12957\n",
            "[EVAL][231/276] final20_Defocus_1.png PSNR: 24.84892, SSIM: 0.94189, LPIPS: 0.11513\n",
            "[EVAL][232/276] final20_Defocus_2.png PSNR: 21.49474, SSIM: 0.89382, LPIPS: 0.17179\n",
            "[EVAL][233/276] final20_Spherical_Abberation_0.2.png PSNR: 28.06783, SSIM: 0.96116, LPIPS: 0.05826\n",
            "[EVAL][234/276] final20_Spherical_Abberation_0.4.png PSNR: 24.03130, SSIM: 0.93063, LPIPS: 0.10818\n",
            "[EVAL][235/276] final20_Spherical_Abberation_0.6.png PSNR: 21.51986, SSIM: 0.90013, LPIPS: 0.14619\n",
            "[EVAL][236/276] final20_Spherical_Abberation_0.9.png PSNR: 20.63467, SSIM: 0.86531, LPIPS: 0.19849\n",
            "[EVAL][237/276] final20_Vertical_Astigmatism_0.5.png PSNR: 29.80785, SSIM: 0.96158, LPIPS: 0.04519\n",
            "[EVAL][238/276] final20_Vertical_Astigmatism_1.5.png PSNR: 24.44594, SSIM: 0.93698, LPIPS: 0.10989\n",
            "[EVAL][239/276] final20_Vertical_Astigmatism_1.png PSNR: 27.93760, SSIM: 0.95744, LPIPS: 0.07257\n",
            "[EVAL][240/276] final20_Vertical_Astigmatism_2.png PSNR: 22.90430, SSIM: 0.92453, LPIPS: 0.12095\n",
            "[EVAL][241/276] final21_Defocus_0.5.png PSNR: 26.98329, SSIM: 0.91394, LPIPS: 0.06654\n",
            "[EVAL][242/276] final21_Defocus_1.5.png PSNR: 24.51414, SSIM: 0.84508, LPIPS: 0.17824\n",
            "[EVAL][243/276] final21_Defocus_1.png PSNR: 26.14517, SSIM: 0.87596, LPIPS: 0.14645\n",
            "[EVAL][244/276] final21_Defocus_2.png PSNR: 22.42163, SSIM: 0.80991, LPIPS: 0.22095\n",
            "[EVAL][245/276] final21_Spherical_Abberation_0.2.png PSNR: 26.97219, SSIM: 0.90147, LPIPS: 0.09353\n",
            "[EVAL][246/276] final21_Spherical_Abberation_0.4.png PSNR: 25.52332, SSIM: 0.86192, LPIPS: 0.14394\n",
            "[EVAL][247/276] final21_Spherical_Abberation_0.6.png PSNR: 22.68595, SSIM: 0.82128, LPIPS: 0.18821\n",
            "[EVAL][248/276] final21_Spherical_Abberation_0.9.png PSNR: 20.67801, SSIM: 0.76072, LPIPS: 0.26844\n",
            "[EVAL][249/276] final21_Vertical_Astigmatism_0.5.png PSNR: 27.19600, SSIM: 0.91564, LPIPS: 0.05896\n",
            "[EVAL][250/276] final21_Vertical_Astigmatism_1.5.png PSNR: 26.07644, SSIM: 0.87044, LPIPS: 0.14258\n",
            "[EVAL][251/276] final21_Vertical_Astigmatism_1.png PSNR: 26.94339, SSIM: 0.89351, LPIPS: 0.11772\n",
            "[EVAL][252/276] final21_Vertical_Astigmatism_2.png PSNR: 24.85559, SSIM: 0.84801, LPIPS: 0.17057\n",
            "[EVAL][253/276] final22_Defocus_0.5.png PSNR: 27.04568, SSIM: 0.92521, LPIPS: 0.08194\n",
            "[EVAL][254/276] final22_Defocus_1.5.png PSNR: 23.58279, SSIM: 0.72834, LPIPS: 0.28591\n",
            "[EVAL][255/276] final22_Defocus_1.png PSNR: 25.30789, SSIM: 0.82007, LPIPS: 0.27322\n",
            "[EVAL][256/276] final22_Defocus_2.png PSNR: 22.30966, SSIM: 0.63375, LPIPS: 0.35996\n",
            "[EVAL][257/276] final22_Spherical_Abberation_0.2.png PSNR: 26.58202, SSIM: 0.90490, LPIPS: 0.14809\n",
            "[EVAL][258/276] final22_Spherical_Abberation_0.4.png PSNR: 24.21805, SSIM: 0.76763, LPIPS: 0.25465\n",
            "[EVAL][259/276] final22_Spherical_Abberation_0.6.png PSNR: 21.44751, SSIM: 0.60211, LPIPS: 0.32471\n",
            "[EVAL][260/276] final22_Spherical_Abberation_0.9.png PSNR: 19.79065, SSIM: 0.56528, LPIPS: 0.52592\n",
            "[EVAL][261/276] final22_Vertical_Astigmatism_0.5.png PSNR: 26.60035, SSIM: 0.91365, LPIPS: 0.07119\n",
            "[EVAL][262/276] final22_Vertical_Astigmatism_1.5.png PSNR: 24.82300, SSIM: 0.79483, LPIPS: 0.21992\n",
            "[EVAL][263/276] final22_Vertical_Astigmatism_1.png PSNR: 26.25911, SSIM: 0.88034, LPIPS: 0.25805\n",
            "[EVAL][264/276] final22_Vertical_Astigmatism_2.png PSNR: 23.64460, SSIM: 0.73226, LPIPS: 0.25718\n",
            "[EVAL][265/276] final23_Defocus_0.5.png PSNR: 29.85438, SSIM: 0.84279, LPIPS: 0.34020\n",
            "[EVAL][266/276] final23_Defocus_1.5.png PSNR: 28.92679, SSIM: 0.84297, LPIPS: 0.35757\n",
            "[EVAL][267/276] final23_Defocus_1.png PSNR: 29.78443, SSIM: 0.82184, LPIPS: 0.39491\n",
            "[EVAL][268/276] final23_Defocus_2.png PSNR: 26.68238, SSIM: 0.83903, LPIPS: 0.34594\n",
            "[EVAL][269/276] final23_Spherical_Abberation_0.2.png PSNR: 29.86670, SSIM: 0.83362, LPIPS: 0.36763\n",
            "[EVAL][270/276] final23_Spherical_Abberation_0.4.png PSNR: 29.56396, SSIM: 0.83824, LPIPS: 0.35499\n",
            "[EVAL][271/276] final23_Spherical_Abberation_0.6.png PSNR: 27.13031, SSIM: 0.84477, LPIPS: 0.32680\n",
            "[EVAL][272/276] final23_Spherical_Abberation_0.9.png PSNR: 26.10482, SSIM: 0.85391, LPIPS: 0.27139\n",
            "[EVAL][273/276] final23_Vertical_Astigmatism_0.5.png PSNR: 29.82904, SSIM: 0.84153, LPIPS: 0.33549\n",
            "[EVAL][274/276] final23_Vertical_Astigmatism_1.5.png PSNR: 29.79880, SSIM: 0.82614, LPIPS: 0.38496\n",
            "[EVAL][275/276] final23_Vertical_Astigmatism_1.png PSNR: 29.85970, SSIM: 0.82314, LPIPS: 0.38967\n",
            "[EVAL][276/276] final23_Vertical_Astigmatism_2.png PSNR: 29.10394, SSIM: 0.84248, LPIPS: 0.35504\n",
            "Results directory: ./Results/train_on_dpdd_s/DistortedImagesCID/2024-07-22_1310\n"
          ]
        }
      ]
    },
    {
      "cell_type": "code",
      "source": [
        "# Copy results to Google Drive\n",
        "import shutil\n",
        "import os\n",
        "\n",
        "# Define the source and destination directories, copy the results directory from before\n",
        "result_dir = './Results/train_on_dpdd_s/DistortedImagesCID'\n",
        "destination_dir = '/content/drive/MyDrive/LaKDNetCID/'\n",
        "\n",
        "# Move all subdirectories and files to the destination directory in Google Drive\n",
        "for root, dirs, files in os.walk(result_dir):\n",
        "    for name in dirs:\n",
        "        shutil.move(os.path.join(root, name), destination_dir)\n",
        "    for name in files:\n",
        "        shutil.move(os.path.join(root, name), destination_dir)\n"
      ],
      "metadata": {
        "id": "lLrwCdTqMUoL"
      },
      "execution_count": null,
      "outputs": []
    }
  ]
}